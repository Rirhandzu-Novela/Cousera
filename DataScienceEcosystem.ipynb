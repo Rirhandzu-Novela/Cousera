{
 "cells": [
  {
   "cell_type": "markdown",
   "id": "fce5eeea",
   "metadata": {},
   "source": [
    "# Data Science Tools and Ecosystem\n"
   ]
  },
  {
   "cell_type": "markdown",
   "id": "0196d82a",
   "metadata": {},
   "source": [
    "# Introduction\n",
    "\n",
    "In this notebook, Data Science Tools and Ecosystem are summarized."
   ]
  },
  {
   "cell_type": "markdown",
   "id": "15e6236f",
   "metadata": {},
   "source": [
    "# Data Science Languages\n",
    "Some of the popular languages that Data Scientists use are:\n",
    "\n",
    "1. Python\n",
    "2. R \n",
    "3. SQL"
   ]
  },
  {
   "cell_type": "markdown",
   "id": "8fb837e9",
   "metadata": {},
   "source": [
    "# Data Science Libraries\n",
    "Some of the commonly used libraries by Data Scientists include:\n",
    "\n",
    "1. NumPy \n",
    "2. Pandas\n",
    "3. Matplotlib"
   ]
  },
  {
   "cell_type": "markdown",
   "id": "ef94f158",
   "metadata": {},
   "source": [
    "# Data Science Tools\n",
    "\n",
    "| Data Science Tools     |\n",
    "| ---------------------- |\n",
    "| Jupyter Notebook       |\n",
    "| RStudio                |\n",
    "| VSCode                 |"
   ]
  },
  {
   "cell_type": "markdown",
   "id": "0668d851",
   "metadata": {},
   "source": [
    "# Arithmetic Expression Examples\n",
    "\n",
    "### Below are a few examples of evaluating arithmetic expressions in Python.\n",
    "\n",
    "2 + 2\n",
    "\n",
    "6 - 2\n",
    "\n",
    "6 * 3\n",
    "\n",
    "6 / 2"
   ]
  },
  {
   "cell_type": "code",
   "execution_count": 1,
   "id": "884119c4",
   "metadata": {},
   "outputs": [
    {
     "data": {
      "text/plain": [
       "17"
      ]
     },
     "execution_count": 1,
     "metadata": {},
     "output_type": "execute_result"
    }
   ],
   "source": [
    "# This is a simple arithmetic expression to multiply then add integers.\n",
    "\n",
    "(3 * 4) + 5\n",
    "\n"
   ]
  },
  {
   "cell_type": "code",
   "execution_count": 2,
   "id": "4e969502",
   "metadata": {},
   "outputs": [
    {
     "data": {
      "text/plain": [
       "3.3333333333333335"
      ]
     },
     "execution_count": 2,
     "metadata": {},
     "output_type": "execute_result"
    }
   ],
   "source": [
    "# This will convert 200 minutes to hours by dividing by 60.\n",
    "minutes = 200\n",
    "hours = minutes / 60\n",
    "\n",
    "# Display the result\n",
    "hours"
   ]
  },
  {
   "cell_type": "markdown",
   "id": "e469e323",
   "metadata": {},
   "source": [
    "**Objectives:**\n",
    "\n",
    "- List popular languages for Data Science.\n",
    "- Introduce commonly used libraries in Data Science.\n",
    "- Demonstrate arithmetic expression examples in Python.\n",
    "- Showcase a code cell converting minutes to hours.\n",
    "- Explore key takeaways from the course."
   ]
  },
  {
   "cell_type": "markdown",
   "id": "f7b46039",
   "metadata": {},
   "source": [
    "## Author\n",
    "\n",
    "Novela Rirhandzu Jeaneth"
   ]
  },
  {
   "cell_type": "code",
   "execution_count": null,
   "id": "36a956a1",
   "metadata": {},
   "outputs": [],
   "source": []
  }
 ],
 "metadata": {
  "kernelspec": {
   "display_name": "Python 3 (ipykernel)",
   "language": "python",
   "name": "python3"
  },
  "language_info": {
   "codemirror_mode": {
    "name": "ipython",
    "version": 3
   },
   "file_extension": ".py",
   "mimetype": "text/x-python",
   "name": "python",
   "nbconvert_exporter": "python",
   "pygments_lexer": "ipython3",
   "version": "3.9.7"
  }
 },
 "nbformat": 4,
 "nbformat_minor": 5
}
